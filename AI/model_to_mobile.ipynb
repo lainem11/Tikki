{
 "cells": [
  {
   "cell_type": "code",
   "execution_count": null,
   "metadata": {},
   "outputs": [],
   "source": [
    "import torch\n",
    "import model_relu_deep_skip as model\n",
    "import os\n",
    "from torch.utils.mobile_optimizer import optimize_for_mobile\n",
    "from Tikki import Tikki\n",
    "from player import AI,random_player"
   ]
  },
  {
   "cell_type": "code",
   "execution_count": null,
   "metadata": {},
   "outputs": [],
   "source": [
    "# Load model\n",
    "n_players = 2\n",
    "round_n = 5\n",
    "card_n = 5\n",
    "n_bets = 3\n",
    "n_inputs = card_n + n_players*(1+round_n) + n_players\n",
    "n_outputs = 52+3\n",
    "hidden_size = 80\n",
    "Actor = model.Actor(n_inputs,hidden_size,n_outputs,60)\n",
    "\n",
    "script_dir = os.path.dirname(os.path.abspath(__file__))\n",
    "model_folder_path = os.path.join(script_dir,r\"model/trained_actor_V1-0.pt\")\n",
    "\n",
    "file_name = os.path.join(model_folder_path)\n",
    "loaded = torch.load(file_name)\n",
    "Actor.load_state_dict(loaded[\"model_state\"])"
   ]
  },
  {
   "cell_type": "code",
   "execution_count": null,
   "metadata": {},
   "outputs": [],
   "source": [
    "# Generate sample data\n",
    "P1 = AI(\"P1\",Actor,\"cpu\")\n",
    "P2 = random_player(\"P2\")\n",
    "game = Tikki(players = [P1,P2])\n",
    "game.new_game()\n",
    "states  = []\n",
    "for _ in range(10):\n",
    "    while 1:\n",
    "        # Or compute logprob, value directly with pass to net\n",
    "        _, state, _, done,_ = game.step(P1)\n",
    "        states.append(state)\n",
    "\n",
    "        if done:\n",
    "            break\n",
    "#states = torch.stack(states).squeeze()\n",
    "traced_script_module = torch.jit.trace(Actor, state)\n",
    "traced_script_module_optimized = optimize_for_mobile(traced_script_module)\n",
    "traced_script_module_optimized._save_for_lite_interpreter(\"model/mobile_model_final_hard.pt\")"
   ]
  }
 ],
 "metadata": {
  "kernelspec": {
   "display_name": "tikkiAI",
   "language": "python",
   "name": "python3"
  },
  "language_info": {
   "codemirror_mode": {
    "name": "ipython",
    "version": 3
   },
   "file_extension": ".py",
   "mimetype": "text/x-python",
   "name": "python",
   "nbconvert_exporter": "python",
   "pygments_lexer": "ipython3",
   "version": "3.12.1"
  }
 },
 "nbformat": 4,
 "nbformat_minor": 2
}
